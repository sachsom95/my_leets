{
 "cells": [
  {
   "cell_type": "code",
   "execution_count": 1,
   "metadata": {},
   "outputs": [],
   "source": [
    "import time"
   ]
  },
  {
   "cell_type": "code",
   "execution_count": 2,
   "metadata": {},
   "outputs": [],
   "source": [
    "class Stack(object):\n",
    "    def __init__(self):\n",
    "        self.list = list()\n",
    "        \n",
    "    def push(self,data):\n",
    "        self.list.append(data)\n",
    "    \n",
    "    def pop(self):\n",
    "        return self.list.pop() if (len(self.list) > 0) else None\n",
    "        \n",
    "    def top(self):\n",
    "        return self.list[-1] if len(self.list) > 0 else None\n",
    "        \n",
    "            \n",
    "    \n",
    "    def is_empty(self):\n",
    "        return len(self.list) == 0 \n",
    "    \n",
    "    def __repr__(self):\n",
    "        if len(self.list) > 0:\n",
    "#             s = \"top of stack\\n_________________\\n\"\n",
    "            s = \"\\n\".join([str(item) for item in self.list[::-1]])\n",
    "            s += \"\\n--stack end--\"\n",
    "            return s\n",
    "        \n",
    "        else:\n",
    "            return \"stack is empty\"\n",
    "        "
   ]
  },
  {
   "cell_type": "code",
   "execution_count": 3,
   "metadata": {},
   "outputs": [],
   "source": [
    "class Node(object):\n",
    "    def __init__ (self, data = None, left = None, right = None):\n",
    "        self.left = left\n",
    "        self.right = right\n",
    "        self.data = data\n",
    "        \n",
    "    def get_value(self):\n",
    "        return self.data\n",
    "\n",
    "    def set_value(self, data):\n",
    "        self.data = data\n",
    "    \n",
    "    def set_left_child(self,left):\n",
    "        self.left = left\n",
    "        \n",
    "    def set_right_child(self,right):\n",
    "        self.right = right\n",
    "        \n",
    "    def get_left_child(self):\n",
    "        return self.left\n",
    "        \n",
    "    def get_right_child(self):\n",
    "        return self.right\n",
    "    \n",
    "    def has_left_child(self):\n",
    "        return True if self.left else False\n",
    "        \n",
    "    def has_right_child(self):\n",
    "        return True if self.right else False\n",
    "    \n",
    "    \n",
    "#     def __str__(self):\n",
    "#         return f\"------Node-----\\n left:{repr(self.left)} \\n right:{repr(self.right)} \\n data:{self.data}\"\n",
    "   \n",
    "    def __repr__(self):\n",
    "        return f\"Node({self.data!r})\""
   ]
  },
  {
   "cell_type": "code",
   "execution_count": 4,
   "metadata": {},
   "outputs": [],
   "source": [
    "class State(object):\n",
    "    def __init__(self,node = None):\n",
    "        self.node = node\n",
    "        self.traversed_left = False\n",
    "        self.traversed_right = False\n",
    "    \n",
    "    def get_node(self):\n",
    "        return self.node\n",
    "    \n",
    "    def has_traveresed_left(self):\n",
    "        return self.traversed_left\n",
    "    \n",
    "    def has_traveresed_right(self):\n",
    "        return self.traversed_right\n",
    "\n",
    "    def set_traveresed_left(self):\n",
    "        self.traversed_left = True\n",
    "    \n",
    "    def set_traveresed_right(self):\n",
    "        self.traversed_right = True\n",
    "        \n",
    "    def __repr__(self):\n",
    "        return f\"Node({self.node!r})\"\n",
    "    "
   ]
  },
  {
   "cell_type": "code",
   "execution_count": 5,
   "metadata": {},
   "outputs": [],
   "source": [
    "class Queue(object):\n",
    "    def __init__(self,value = None):\n",
    "        self.x = list()\n",
    "        if value:\n",
    "            self.x.append(value)\n",
    "        \n",
    "    def enqueue(self,data):\n",
    "        self.x.append(data)\n",
    "        \n",
    "    def dequeu(self):\n",
    "        return self.x.pop(0) if len(self.x) else print(\"Queue is empty\")\n",
    "    \n",
    "    def peek(self):\n",
    "        return self.x[0] if len(self.x) else None\n",
    "    \n",
    "    def length(self):\n",
    "        return len(self.x)\n",
    "    \n",
    "    def __str__(self):\n",
    "        lst=\"\"\n",
    "        for z in self.x:\n",
    "            lst = lst + str(z) + \",\"\n",
    "        return lst"
   ]
  },
  {
   "cell_type": "code",
   "execution_count": 6,
   "metadata": {},
   "outputs": [],
   "source": [
    "class Tree(object):\n",
    "    \n",
    "    def __init__(self, value = None):\n",
    "        self.root = Node(value)\n",
    "    def get_root(self):\n",
    "        return self.root\n",
    "    def __repr__(self):\n",
    "        return f\"Tree({self.root!r})\"\n",
    "    def __str__(self):\n",
    "        return f\" Tree object with root:{self.root}\"\n",
    "#     this implimentation is bugged as we will go into infinite loop so we will make a better one with 'state'\n",
    "    def pre_order_traversal_bugged(self):\n",
    "        print(\"Creating stack\")\n",
    "        time.sleep(.5)\n",
    "        stk = Stack()\n",
    "        visit = list()\n",
    "        print(\"Creating visit list\")\n",
    "        time.sleep(.5)\n",
    "        node = tree.get_root()\n",
    "        print(\"Getting root node\")\n",
    "        time.sleep(.5)\n",
    "        print(f\"The root node is:{node.data}\")\n",
    "        stk.push(node)\n",
    "        visit.append(node)\n",
    "        print(f\"---stack---\")\n",
    "        print(stk)\n",
    "        time.sleep(.5)\n",
    "        print(\"\\n---list---\")\n",
    "        print(visit)\n",
    "        print(\"entering while loop\\n\\n\")\n",
    "        while(stk):\n",
    "            if node.has_left_child() :\n",
    "                print(f\"{node.data} has left child\")\n",
    "                node = node.get_left_child()\n",
    "                stk.push(node)\n",
    "                visit.append(node)\n",
    "                print(\"pushed it to stk and added to visit list\")\n",
    "                time.sleep(.5)\n",
    "                print(f\"---stack---\")\n",
    "                print(stk)\n",
    "                print(\"\\n\\n---list---\")\n",
    "                print(visit)\n",
    "                time.sleep(3)\n",
    "            elif node.has_right_child():\n",
    "                print(f\"came to right child loop {node.data} has right child\")\n",
    "                node = node.get_right_child()\n",
    "                stk.push(node)\n",
    "                visit.append(node)\n",
    "                print(\"pushed it to stk and added to visit list\")\n",
    "                time.sleep(.5)\n",
    "                print(f\"---stack---\")\n",
    "                print(stk)\n",
    "                print(\"\\n\\n---list---\")\n",
    "                print(visit)\n",
    "                time.sleep(3)\n",
    "            else:\n",
    "                print(f\"\\n\\n Came to a leaf node Going to traceback\")\n",
    "                data = stk.pop()\n",
    "                node = stk.top()\n",
    "                print(f\"poped {data}\")\n",
    "                time.sleep(.2)\n",
    "                print(f\"new node will be {node}\")\n",
    "                \n",
    "                \n",
    "                \n",
    "    def pre_order_traversal(self):\n",
    "            print(\"Creating stack\")\n",
    "            time.sleep(.5)\n",
    "            stack = Stack()\n",
    "            visit = list()\n",
    "            print(\"Creating visit list\")\n",
    "            time.sleep(.5)\n",
    "            node = tree.get_root()\n",
    "            state = State(node)\n",
    "            print(\"Getting root node\")\n",
    "            time.sleep(.5)\n",
    "            print(f\"The root node is:{node.data}\")\n",
    "            stack.push(state)\n",
    "            visit.append(node.data)\n",
    "            print(f\"---stack---\")\n",
    "            print(stack)\n",
    "            time.sleep(.5)\n",
    "            print(\"\\n---list---\")\n",
    "            print(visit)\n",
    "            print(\"entering while loop\\n\\n\")\n",
    "            while(stack):\n",
    "                if node.has_left_child() and not state.has_traveresed_left():\n",
    "\n",
    "                    print(f\"{node.data} has left child and status of has_traversed_left is {state.has_traveresed_left()}\")\n",
    "                    state.set_traveresed_left()\n",
    "                    print(f\"{node.data} has has_traversed_left is set to True let me verify here->{state.has_traveresed_left()}\")\n",
    "                    node = node.get_left_child()\n",
    "                    visit.append(node.data)\n",
    "                    state = State(node)\n",
    "                    stack.push(state)\n",
    "                    print(f\"pushed {node} to stk and added to visit list\")\n",
    "                    time.sleep(.5)\n",
    "                    print(f\"---stack---\")\n",
    "                    print(stack)\n",
    "                    print(\"\\n\\n---list---\")\n",
    "                    print(visit)\n",
    "                    time.sleep(3)\n",
    "                elif node.has_right_child() and not state.has_traveresed_right():\n",
    "                    print(f\"came to right child loop {node.data} has right child and status of has_traversed_right is {state.has_traveresed_right()}\")\n",
    "                    state.set_traveresed_right()\n",
    "                    node = node.get_right_child()\n",
    "                    state = State(node)\n",
    "                    print(f\"{node.data} has has_traversed_right is set to True let me verify here->{state.has_traveresed_right()}\")                    \n",
    "                    stack.push(state)\n",
    "                    visit.append(node.data)\n",
    "                    print(\"pushed it to stk and added to visit list\")\n",
    "                    time.sleep(.5)\n",
    "                    print(f\"---stack---\")\n",
    "                    print(stack)\n",
    "                    print(\"\\n\\n---list---\")\n",
    "                    print(visit)\n",
    "                    time.sleep(3)\n",
    "                else:\n",
    "                    if stack.is_empty():\n",
    "                        print(\"END OF TRAVERSAL\")\n",
    "                        stack = None\n",
    "                        \n",
    "                    else:\n",
    "                        print(f\"\\n\\nCame to a leaf node Going to traceback\")\n",
    "                        data = stack.pop()\n",
    "                        state = stack.top()\n",
    "                        if state:\n",
    "                            node = state.node\n",
    "                            print(f\"poped {data}\")\n",
    "                            time.sleep(.2)\n",
    "                            print(f\"new node will be {state}\")\n",
    "                        else:\n",
    "                            node = None\n",
    "                            stack = None\n",
    "                            print(f\"End of traversal\\n Final visit list is {visit} \")\n",
    "\n",
    "    def dfs_recursive(self):\n",
    "#         self.tree = tree\n",
    "        self.root_node = self.get_root()\n",
    "        self.visit = list()\n",
    "        def traverse(node):\n",
    "            if node:\n",
    "                self.visit.append(node.data)\n",
    "                traverse(node.get_left_child())\n",
    "\n",
    "                traverse(node.get_right_child())    \n",
    "        traverse(self.root_node)\n",
    "        print(self.visit)\n",
    "                \n",
    "    def bfs(self):\n",
    "        \n",
    "        print(\"-------starting bfs--------\")\n",
    "        node = self.get_root()\n",
    "        print(f\"Retrived root node:{node.data}\")\n",
    "        queue = Queue(node)\n",
    "        print(\"created queue\")\n",
    "        print(\"visit list\")\n",
    "        visit = list()\n",
    "#         print(node)\n",
    "        print(\"--------starting while loop------------\\n\")\n",
    "        time.sleep(1)\n",
    "        while node:\n",
    "            print(f\"checking {node.data} has left child\")\n",
    "            time.sleep(1)\n",
    "            if node.has_left_child():\n",
    "                print(f\"{node.data} has left child\")\n",
    "                print(f\"left child is :{node.get_left_child()}\\n\\n\")\n",
    "                queue.enqueue(node.get_left_child())\n",
    "\n",
    "            time.sleep(1)\n",
    "            print(f\"checking {node.data} has right child\")\n",
    "            if node.has_right_child():\n",
    "                print(f\"{node.data} has right child\")\n",
    "                print(f\"left child is :{node.get_right_child()}\\n\\n\")\n",
    "                queue.enqueue(node.get_right_child())\n",
    "                \n",
    "            print(f\"\\n The Queue is {print(queue)}\")\n",
    "            visit.append(queue.dequeu().data)\n",
    "            print(f\"Elements added to visit list\\nvisit list is:{print(visit)}\")\n",
    "            node = queue.peek()\n",
    "            print(f\"Queue after dequing: {print(queue)}\")\n",
    "            print(f\"New node is {node}\\n\\n\")\n",
    "        \n",
    "        \n",
    "        return visit\n",
    "            \n",
    "            \n",
    "                "
   ]
  },
  {
   "cell_type": "code",
   "execution_count": 7,
   "metadata": {},
   "outputs": [],
   "source": [
    "tree = Tree(\"apple\")\n",
    "tree.get_root().set_left_child(Node(\"banana\"))\n",
    "tree.get_root().set_right_child(Node(\"cherry\"))\n",
    "tree.get_root().get_left_child().set_left_child(Node(\"dates\"))\n",
    "tree.get_root().get_left_child().get_left_child().set_left_child(Node(\"peach\"))"
   ]
  },
  {
   "cell_type": "code",
   "execution_count": 8,
   "metadata": {},
   "outputs": [
    {
     "name": "stdout",
     "output_type": "stream",
     "text": [
      "['apple', 'banana', 'dates', 'peach', 'cherry']\n"
     ]
    }
   ],
   "source": [
    "tree.dfs_recursive()"
   ]
  },
  {
   "cell_type": "code",
   "execution_count": 9,
   "metadata": {
    "scrolled": true
   },
   "outputs": [],
   "source": [
    "# tree.pre_order_traversal()"
   ]
  },
  {
   "cell_type": "code",
   "execution_count": 10,
   "metadata": {},
   "outputs": [
    {
     "name": "stdout",
     "output_type": "stream",
     "text": [
      "-------starting bfs--------\n",
      "Retrived root node:apple\n",
      "created queue\n",
      "visit list\n",
      "--------starting while loop------------\n",
      "\n",
      "checking apple has left child\n",
      "apple has left child\n",
      "left child is :Node('banana')\n",
      "\n",
      "\n",
      "checking apple has right child\n",
      "apple has right child\n",
      "left child is :Node('cherry')\n",
      "\n",
      "\n",
      "Node('apple'),Node('banana'),Node('cherry'),\n",
      "\n",
      " The Queue is None\n",
      "['apple']\n",
      "Elements added to visit list\n",
      "visit list is:None\n",
      "Node('banana'),Node('cherry'),\n",
      "Queue after dequing: None\n",
      "New node is Node('banana')\n",
      "\n",
      "\n",
      "checking banana has left child\n",
      "banana has left child\n",
      "left child is :Node('dates')\n",
      "\n",
      "\n",
      "checking banana has right child\n",
      "Node('banana'),Node('cherry'),Node('dates'),\n",
      "\n",
      " The Queue is None\n",
      "['apple', 'banana']\n",
      "Elements added to visit list\n",
      "visit list is:None\n",
      "Node('cherry'),Node('dates'),\n",
      "Queue after dequing: None\n",
      "New node is Node('cherry')\n",
      "\n",
      "\n",
      "checking cherry has left child\n",
      "checking cherry has right child\n",
      "Node('cherry'),Node('dates'),\n",
      "\n",
      " The Queue is None\n",
      "['apple', 'banana', 'cherry']\n",
      "Elements added to visit list\n",
      "visit list is:None\n",
      "Node('dates'),\n",
      "Queue after dequing: None\n",
      "New node is Node('dates')\n",
      "\n",
      "\n",
      "checking dates has left child\n",
      "dates has left child\n",
      "left child is :Node('peach')\n",
      "\n",
      "\n",
      "checking dates has right child\n",
      "Node('dates'),Node('peach'),\n",
      "\n",
      " The Queue is None\n",
      "['apple', 'banana', 'cherry', 'dates']\n",
      "Elements added to visit list\n",
      "visit list is:None\n",
      "Node('peach'),\n",
      "Queue after dequing: None\n",
      "New node is Node('peach')\n",
      "\n",
      "\n",
      "checking peach has left child\n",
      "checking peach has right child\n",
      "Node('peach'),\n",
      "\n",
      " The Queue is None\n",
      "['apple', 'banana', 'cherry', 'dates', 'peach']\n",
      "Elements added to visit list\n",
      "visit list is:None\n",
      "\n",
      "Queue after dequing: None\n",
      "New node is None\n",
      "\n",
      "\n"
     ]
    },
    {
     "data": {
      "text/plain": [
       "['apple', 'banana', 'cherry', 'dates', 'peach']"
      ]
     },
     "execution_count": 10,
     "metadata": {},
     "output_type": "execute_result"
    }
   ],
   "source": [
    "tree.bfs()"
   ]
  },
  {
   "cell_type": "code",
   "execution_count": 11,
   "metadata": {},
   "outputs": [],
   "source": [
    "x = list()"
   ]
  },
  {
   "cell_type": "code",
   "execution_count": 12,
   "metadata": {},
   "outputs": [],
   "source": [
    "x.append(1)\n",
    "x.append(2)\n",
    "x.append(3)\n",
    "x.append(4)\n",
    "\n"
   ]
  },
  {
   "cell_type": "code",
   "execution_count": 13,
   "metadata": {
    "scrolled": true
   },
   "outputs": [
    {
     "data": {
      "text/plain": [
       "4"
      ]
     },
     "execution_count": 13,
     "metadata": {},
     "output_type": "execute_result"
    }
   ],
   "source": [
    "len(x)"
   ]
  },
  {
   "cell_type": "code",
   "execution_count": 14,
   "metadata": {},
   "outputs": [
    {
     "data": {
      "text/plain": [
       "1"
      ]
     },
     "execution_count": 14,
     "metadata": {},
     "output_type": "execute_result"
    }
   ],
   "source": [
    "x.pop(0)"
   ]
  },
  {
   "cell_type": "markdown",
   "metadata": {},
   "source": [
    "Binary Search Tree"
   ]
  },
  {
   "cell_type": "markdown",
   "metadata": {},
   "source": [
    "Need Queue For BFS and Node Class"
   ]
  },
  {
   "cell_type": "code",
   "execution_count": 15,
   "metadata": {},
   "outputs": [],
   "source": [
    "from collections import deque\n",
    "\n",
    "class Queue():\n",
    "    def __init__(self):\n",
    "        self.q = deque()\n",
    "\n",
    "    def enq(self, value):\n",
    "        self.q.appendleft(value)\n",
    "\n",
    "    def deq(self):\n",
    "        if len(self.q) > 0:\n",
    "            return self.q.pop()\n",
    "        else:\n",
    "            return None\n",
    "\n",
    "    def __len__(self):\n",
    "        return len(self.q)\n",
    "\n",
    "    def __repr__(self):\n",
    "        if len(self.q) > 0:\n",
    "            s = \"<enqueue here>\\n_________________\\n\"\n",
    "            s += \"\\n_________________\\n\".join([str(item) for item in self.q])\n",
    "            s += \"\\n_________________\\n<dequeue here>\"\n",
    "            return s\n",
    "        else:\n",
    "            return \"<queue is empty>\""
   ]
  },
  {
   "cell_type": "code",
   "execution_count": 61,
   "metadata": {},
   "outputs": [],
   "source": [
    "class BinaryTree(object):\n",
    "    \n",
    "    def __init__ (self):\n",
    "        self.root_node = None\n",
    "        \n",
    "    def set_root(self, data = None):\n",
    "        self.root_node = Node(data)\n",
    "        \n",
    "    def get_root(self):\n",
    "        return self.root_node\n",
    "    \n",
    "    def compare(self, node, new_node):\n",
    "        \"\"\"\n",
    "        0 if both nodes are equal\n",
    "        1 if current node less than new node\n",
    "        -1 if current node greater than new node\n",
    "        \"\"\"\n",
    "        if (node.get_value() > new_node.get_value()):\n",
    "            return -1 # insert left \n",
    "        elif (node.get_value() == new_node.get_value()):\n",
    "            return 0\n",
    "        else:\n",
    "            return 1 # insert right\n",
    "    \n",
    "    def insert(self, data):\n",
    "        new_node = Node(data)\n",
    "        inserted = False\n",
    "        if self.root_node == None:\n",
    "            self.set_root(data)\n",
    "        else:\n",
    "            node = self.get_root()\n",
    "            while(not inserted):\n",
    "                if (self.compare(node, new_node) == 1): # the new node greater so insert right\n",
    "                    if (node.has_right_child()):\n",
    "                        node = node.get_right_child()\n",
    "                    else:\n",
    "                        node.set_right_child(new_node)\n",
    "                        inserted = True\n",
    "                elif (self.compare(node, new_node) == -1 ): # the new node less so insert left\n",
    "                    if (node.has_left_child()):\n",
    "                        node = node.get_left_child()\n",
    "                    else:\n",
    "                        node.set_left_child(new_node)\n",
    "                        inserted = True\n",
    "                else:                                  # when both are same\n",
    "                    inserted = True\n",
    "        \n",
    "        \n",
    "    def insert_recursive(self, data):\n",
    "        new_node = Node(data)\n",
    "        insertion = False\n",
    "        node = self.get_root()\n",
    "        if self.get_root():\n",
    "            def recursive(node, new_node):\n",
    "                if (self.compare(node, new_node) == 1):\n",
    "                    if node.has_right_child():\n",
    "                        recursive(node.get_right_child(),new_node)\n",
    "                    else:\n",
    "                        node.set_right_child(new_node)\n",
    "                        insertion = True\n",
    "\n",
    "                elif (self.compare(node, new_node) == -1):\n",
    "                    if (node.has_left_child()):\n",
    "                        recursive(node.get_left_child(),new_node)\n",
    "                    else:\n",
    "                        node.set_left_child(new_node)\n",
    "                        insertion = True\n",
    "        \n",
    "            recursive(node,new_node)\n",
    "        else:\n",
    "            self.set_root(data)\n",
    "            \n",
    "    \n",
    "    def search(self,data):\n",
    "        node = self.get_root()\n",
    "        new_node = Node(data)\n",
    "        if self.get_root() == None:\n",
    "            return False\n",
    "        \n",
    "        while True:\n",
    "            if (self.compare(node, new_node) == 0):\n",
    "                return True\n",
    "            elif (self.compare(node,new_node) == -1):\n",
    "                if node.has_left_child():\n",
    "                    node = node.get_left_child()\n",
    "                else:\n",
    "                    return False\n",
    "            elif(self.compare(node,new_node) == 1):\n",
    "                if node.has_right_child():\n",
    "                    node = node.get_right_child()\n",
    "                else:\n",
    "                    return False\n",
    "    \n",
    "    \n",
    "    def find_lowest(self,node):\n",
    "        \"\"\"returns lowest and its parent\"\"\"\n",
    "        lowest_node = None\n",
    "        while node.has_left_child():\n",
    "            parent = node\n",
    "            node = node.get_left_child()\n",
    "        lowest_node = node\n",
    "        return lowest_node, parent\n",
    "    \n",
    "    \n",
    "    def delete(self,data):\n",
    "        node = self.get_root()\n",
    "        new_node = Node(data)\n",
    "        delete_node = None\n",
    "        if self.get_root() == None:\n",
    "            print(\"No such nodes found aborting delete\")\n",
    "            \n",
    "        while True:\n",
    "            if (self.compare(node, new_node) == 0):\n",
    "                print(\"Found node to delete\")\n",
    "                delete_nodenode = node\n",
    "                break\n",
    "            elif (self.compare(node,new_node) == -1):\n",
    "                if node.has_left_child():\n",
    "                    parent_node = node\n",
    "                    node = node.get_left_child()\n",
    "                else:\n",
    "                    print(\"No such nodes found aborting delete\")\n",
    "                    return False\n",
    "            elif(self.compare(node,new_node) == 1):\n",
    "                if node.has_right_child():\n",
    "                    parent_node = node\n",
    "                    node = node.get_right_child()\n",
    "                else:\n",
    "                    print(\"No such nodes found aborting delete\")\n",
    "                    return False\n",
    "        \n",
    "        \n",
    "                \n",
    "        \n",
    "        # delete leaf node \n",
    "        if (not node.has_right_child() and not node.has_left_child()):\n",
    "            print(\"Deleting the leaf node\")\n",
    "            # we need to find out if the parent node needs to remove left or right child\n",
    "            if (self.compare(parent_node.get_left_child(),node ) == 0):\n",
    "                parent_node.set_left_child(None)\n",
    "            else:\n",
    "                parent_node.set_right_child(None)\n",
    "                \n",
    "        # delete node with single child\n",
    "        elif ( (not node.has_right_child() and  node.has_left_child()) or (node.has_right_child() and not node.has_left_child()) ):\n",
    "                # get the child element\n",
    "                print(\"Deleting single child node\")\n",
    "                if (not node.has_right_child() and node.has_left_child()):\n",
    "                    child = node.get_left_child()\n",
    "                    parent_node.set_left_child(child)\n",
    "                else:\n",
    "                    child = node.get_right_child()\n",
    "                    parent_node.set_right_child(child)\n",
    "        # Delete node with both children\n",
    "        else:\n",
    "#             getting lowest node in right sub-tree\n",
    "            lowest_node = self.find_lowest(node.get_right_child()):\n",
    "            \n",
    "                \n",
    "                    \n",
    "\n",
    "        \n",
    "    \n",
    "        \n",
    "    def __repr__(self):\n",
    "        level = 0\n",
    "        q = Queue()\n",
    "        visit_order = list()\n",
    "        node = self.get_root()\n",
    "        q.enq((node, level))\n",
    "        while (len(q) > 0):\n",
    "            node, level = q.deq()\n",
    "            if node == None:\n",
    "                visit_order.append((\"<empty>\", level))\n",
    "                continue\n",
    "            visit_order.append((node, level))\n",
    "            if node.has_left_child():\n",
    "                q.enq((node.get_left_child(), level + 1))\n",
    "            else:\n",
    "                q.enq((None, level + 1))\n",
    "\n",
    "            if node.has_right_child():\n",
    "                q.enq((node.get_right_child(), level + 1))\n",
    "            else:\n",
    "                q.enq((None, level + 1))\n",
    "\n",
    "        s = \"Tree\\n\"\n",
    "        previous_level = -1\n",
    "        for i in range(len(visit_order)):\n",
    "            node, level = visit_order[i]\n",
    "            if level == previous_level:\n",
    "                s += \" | \" + str(node)\n",
    "            else:\n",
    "                s += \"\\n\" + str(node)\n",
    "                previous_level = level\n",
    "\n",
    "        return s\n",
    "\n",
    "    \n",
    "        "
   ]
  },
  {
   "cell_type": "code",
   "execution_count": null,
   "metadata": {},
   "outputs": [],
   "source": [
    "\n"
   ]
  },
  {
   "cell_type": "code",
   "execution_count": 71,
   "metadata": {},
   "outputs": [],
   "source": [
    "\n",
    "x = BinaryTree()"
   ]
  },
  {
   "cell_type": "code",
   "execution_count": 72,
   "metadata": {
    "scrolled": false
   },
   "outputs": [
    {
     "name": "stdout",
     "output_type": "stream",
     "text": [
      "Tree\n",
      "\n",
      "Node(7)\n",
      "Node(6) | Node(8)\n",
      "Node(4) | <empty> | <empty> | Node(9)\n",
      "Node(3) | Node(5) | <empty> | <empty>\n",
      "Node(2) | <empty> | <empty> | <empty>\n",
      "Node(1) | <empty>\n",
      "<empty> | <empty>\n"
     ]
    }
   ],
   "source": [
    "x.insert_recursive(7)\n",
    "x.insert_recursive(6)\n",
    "x.insert_recursive(8)\n",
    "x.insert_recursive(9)\n",
    "x.insert_recursive(4)\n",
    "x.insert_recursive(5)\n",
    "x.insert_recursive(4)\n",
    "x.insert_recursive(3)\n",
    "x.insert_recursive(2)\n",
    "x.insert_recursive(1)\n",
    "x.insert_recursive(1)\n",
    "print(x)\n"
   ]
  },
  {
   "cell_type": "code",
   "execution_count": 68,
   "metadata": {
    "scrolled": false
   },
   "outputs": [
    {
     "name": "stdout",
     "output_type": "stream",
     "text": [
      "True\n"
     ]
    }
   ],
   "source": [
    "print(x.search(1))"
   ]
  },
  {
   "cell_type": "code",
   "execution_count": 75,
   "metadata": {},
   "outputs": [
    {
     "name": "stdout",
     "output_type": "stream",
     "text": [
      "Found node to delete\n",
      "Deleting single child node\n"
     ]
    }
   ],
   "source": [
    "x.delete(2)"
   ]
  },
  {
   "cell_type": "code",
   "execution_count": 76,
   "metadata": {},
   "outputs": [
    {
     "name": "stdout",
     "output_type": "stream",
     "text": [
      "Tree\n",
      "\n",
      "Node(7)\n",
      "Node(4) | Node(8)\n",
      "Node(3) | Node(5) | <empty> | Node(9)\n",
      "Node(1) | <empty> | <empty> | <empty> | <empty> | <empty>\n",
      "<empty> | <empty>\n"
     ]
    }
   ],
   "source": [
    "print(x)"
   ]
  },
  {
   "cell_type": "code",
   "execution_count": 22,
   "metadata": {},
   "outputs": [],
   "source": [
    "x.insert_recursive(7)\n",
    "\n"
   ]
  },
  {
   "cell_type": "code",
   "execution_count": 23,
   "metadata": {},
   "outputs": [],
   "source": [
    "x.insert_recursive(6)\n",
    "\n"
   ]
  },
  {
   "cell_type": "code",
   "execution_count": 24,
   "metadata": {},
   "outputs": [],
   "source": [
    "x.insert_recursive(7)\n",
    "x.insert_recursive(6)\n",
    "x.insert_recursive(8)\n",
    "x.insert_recursive(9)\n",
    "x.insert_recursive(4)\n",
    "x.insert_recursive(5)\n",
    "x.insert_recursive(4)\n",
    "x.insert_recursive(3)\n",
    "x.insert_recursive(2)\n",
    "x.insert_recursive(1)\n",
    "x.insert_recursive(1)"
   ]
  },
  {
   "cell_type": "code",
   "execution_count": 25,
   "metadata": {},
   "outputs": [],
   "source": [
    "x.insert(7)\n",
    "x.insert(6)\n",
    "x.insert(8)\n",
    "x.insert(9)\n",
    "x.insert(4)\n",
    "x.insert(5)\n",
    "x.insert(4)\n",
    "x.insert(3)\n",
    "x.insert(2)\n",
    "x.insert(1)\n",
    "x.insert(1)"
   ]
  },
  {
   "cell_type": "code",
   "execution_count": 26,
   "metadata": {},
   "outputs": [
    {
     "name": "stdout",
     "output_type": "stream",
     "text": [
      "Tree\n",
      "\n",
      "Node(7)\n",
      "Node(6) | Node(8)\n",
      "Node(4) | <empty> | <empty> | Node(9)\n",
      "Node(3) | Node(5) | <empty> | <empty>\n",
      "Node(2) | <empty> | <empty> | <empty>\n",
      "Node(1) | <empty>\n",
      "<empty> | <empty>\n"
     ]
    }
   ],
   "source": [
    "print(x)"
   ]
  },
  {
   "cell_type": "code",
   "execution_count": 27,
   "metadata": {},
   "outputs": [],
   "source": [
    "x.insert(7)"
   ]
  },
  {
   "cell_type": "code",
   "execution_count": 28,
   "metadata": {},
   "outputs": [],
   "source": [
    "class aa:\n",
    "    def __init__(self, apple):\n",
    "        self.apple = apple\n",
    "    \n",
    "    \n",
    "    def __repr__(self):\n",
    "        return f\"aa({self.apple!r})\"\n",
    "    "
   ]
  },
  {
   "cell_type": "code",
   "execution_count": 29,
   "metadata": {},
   "outputs": [],
   "source": [
    "c = aa(\"ap\")"
   ]
  },
  {
   "cell_type": "code",
   "execution_count": 30,
   "metadata": {},
   "outputs": [
    {
     "data": {
      "text/plain": [
       "\"aa('ap')\""
      ]
     },
     "execution_count": 30,
     "metadata": {},
     "output_type": "execute_result"
    }
   ],
   "source": [
    "repr(c)"
   ]
  },
  {
   "cell_type": "code",
   "execution_count": null,
   "metadata": {},
   "outputs": [],
   "source": []
  }
 ],
 "metadata": {
  "kernelspec": {
   "display_name": "Python 3",
   "language": "python",
   "name": "python3"
  },
  "language_info": {
   "codemirror_mode": {
    "name": "ipython",
    "version": 3
   },
   "file_extension": ".py",
   "mimetype": "text/x-python",
   "name": "python",
   "nbconvert_exporter": "python",
   "pygments_lexer": "ipython3",
   "version": "3.7.6"
  }
 },
 "nbformat": 4,
 "nbformat_minor": 4
}
