{
 "cells": [
  {
   "cell_type": "code",
   "execution_count": 1,
   "metadata": {},
   "outputs": [],
   "source": [
    "class Node(object):\n",
    "    def __init__(self,value = None):\n",
    "        self.left = None\n",
    "        self.right = None\n",
    "        self.value = value\n",
    "    \n",
    "    def set_value(value):\n",
    "        self.value = value\n",
    "        \n",
    "    def get_value():\n",
    "        return self.value\n",
    "    \n",
    "    def set_left_child(value):\n",
    "        self.left = value\n",
    "        \n",
    "    def set_right_child(value):\n",
    "        self.right = right\n",
    "    \n",
    "    def has_left_child(self):\n",
    "        return self.left!=None\n",
    "    \n",
    "    def has_right_child(self):\n",
    "        return self.right!=None\n",
    "    \n",
    "    def __repr__(self):\n",
    "        return f\"Node({self.get_value()})\"\n",
    "    \n",
    "    def __str__(self):\n",
    "        return f\"Node({self.get_value()})\"\n",
    "    \n",
    "\n",
    "    "
   ]
  },
  {
   "cell_type": "code",
   "execution_count": 12,
   "metadata": {},
   "outputs": [],
   "source": [
    "class Tree(object):\n",
    "    def __init__(self,value=None):\n",
    "        self.root = Node(value)\n",
    "    \n",
    "    def get_root(self):\n",
    "        return self.root"
   ]
  },
  {
   "cell_type": "code",
   "execution_count": null,
   "metadata": {},
   "outputs": [],
   "source": []
  },
  {
   "cell_type": "code",
   "execution_count": null,
   "metadata": {},
   "outputs": [],
   "source": []
  },
  {
   "cell_type": "code",
   "execution_count": null,
   "metadata": {},
   "outputs": [],
   "source": []
  },
  {
   "cell_type": "code",
   "execution_count": null,
   "metadata": {},
   "outputs": [],
   "source": []
  },
  {
   "cell_type": "code",
   "execution_count": null,
   "metadata": {},
   "outputs": [],
   "source": []
  }
 ],
 "metadata": {
  "kernelspec": {
   "display_name": "Python 3.7.6 64-bit ('comp30830': conda)",
   "language": "python",
   "name": "python37664bitcomp30830conda400f78246ba043d9a495ab5fbc323b1d"
  },
  "language_info": {
   "codemirror_mode": {
    "name": "ipython",
    "version": 3
   },
   "file_extension": ".py",
   "mimetype": "text/x-python",
   "name": "python",
   "nbconvert_exporter": "python",
   "pygments_lexer": "ipython3",
   "version": "3.7.7"
  }
 },
 "nbformat": 4,
 "nbformat_minor": 4
}
